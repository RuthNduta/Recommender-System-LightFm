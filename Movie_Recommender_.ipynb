{
  "nbformat": 4,
  "nbformat_minor": 0,
  "metadata": {
    "colab": {
      "name": "Movie Recommender .ipynb",
      "version": "0.3.2",
      "provenance": []
    },
    "kernelspec": {
      "display_name": "Python 3",
      "language": "python",
      "name": "python3"
    }
  },
  "cells": [
    {
      "metadata": {
        "id": "v9y8Ud7HPSi4",
        "colab_type": "text"
      },
      "cell_type": "markdown",
      "source": [
        "## Installing lightfm & Import libraries"
      ]
    },
    {
      "metadata": {
        "id": "Hc9XtGrNQ-Hl",
        "colab_type": "code",
        "colab": {}
      },
      "cell_type": "code",
      "source": [
        "!pip install -q lightfm"
      ],
      "execution_count": 0,
      "outputs": []
    },
    {
      "metadata": {
        "id": "Th-9frUaLxZA",
        "colab_type": "code",
        "colab": {}
      },
      "cell_type": "code",
      "source": [
        "import numpy as np\n",
        "from lightfm.datasets import fetch_movielens\n",
        "from lightfm import LightFM\n",
        "from lightfm.cross_validation import random_train_test_split\n",
        "from lightfm.evaluation import auc_score"
      ],
      "execution_count": 0,
      "outputs": []
    },
    {
      "metadata": {
        "id": "ko3J_oFqPpfd",
        "colab_type": "text"
      },
      "cell_type": "markdown",
      "source": [
        "## Fetch data from movielens dataset"
      ]
    },
    {
      "metadata": {
        "id": "p46Hepv-LxZX",
        "colab_type": "code",
        "colab": {}
      },
      "cell_type": "code",
      "source": [
        "#fetch data and format it\n",
        "data = fetch_movielens(min_rating=4.0)"
      ],
      "execution_count": 0,
      "outputs": []
    },
    {
      "metadata": {
        "id": "Pfoh_1fIP-Hc",
        "colab_type": "code",
        "colab": {
          "base_uri": "https://localhost:8080/",
          "height": 102
        },
        "outputId": "164343cd-4646-4b62-a639-133c800450bc"
      },
      "cell_type": "code",
      "source": [
        "for col in data:\n",
        "  print (col)"
      ],
      "execution_count": 14,
      "outputs": [
        {
          "output_type": "stream",
          "text": [
            "train\n",
            "test\n",
            "item_features\n",
            "item_feature_labels\n",
            "item_labels\n"
          ],
          "name": "stdout"
        }
      ]
    },
    {
      "metadata": {
        "id": "2vs-lGk2LxZn",
        "colab_type": "code",
        "colab": {
          "base_uri": "https://localhost:8080/",
          "height": 85
        },
        "outputId": "335aed89-5a16-4421-f7b9-6461142c290c"
      },
      "cell_type": "code",
      "source": [
        "#print training and testing data\n",
        "print(repr(data['train']))\n",
        "print(repr(data['test']))"
      ],
      "execution_count": 15,
      "outputs": [
        {
          "output_type": "stream",
          "text": [
            "<943x1682 sparse matrix of type '<class 'numpy.int32'>'\n",
            "\twith 49906 stored elements in COOrdinate format>\n",
            "<943x1682 sparse matrix of type '<class 'numpy.int32'>'\n",
            "\twith 5469 stored elements in COOrdinate format>\n"
          ],
          "name": "stdout"
        }
      ]
    },
    {
      "metadata": {
        "id": "uFYihKQ8UfHa",
        "colab_type": "text"
      },
      "cell_type": "markdown",
      "source": [
        "## Modelling\n",
        "Here we are using three types of loss function\n",
        "- logistic: useful when both positive (1) and negative (-1) interactions are present.\n",
        "- bpr : Bayesian Personalised Ranking pairwise loss.\n",
        "- warp : Weighted Approximate-Rank Pairwise loss. "
      ]
    },
    {
      "metadata": {
        "id": "PNDKniBhLxZ_",
        "colab_type": "code",
        "colab": {
          "base_uri": "https://localhost:8080/",
          "height": 34
        },
        "outputId": "b1d0787e-f023-4711-da75-ea9f06235b8c"
      },
      "cell_type": "code",
      "source": [
        "#create model\n",
        "model = LightFM(loss='warp')\n",
        "model1 = LightFM(loss='logistic')\n",
        "model2 = LightFM(loss='bpr')\n",
        "#train model\n",
        "model.fit(data['train'], epochs=30, num_threads=4)\n",
        "model1.fit(data['train'], epochs=30, num_threads=4)\n",
        "model2.fit(data['train'], epochs=30, num_threads=4)"
      ],
      "execution_count": 16,
      "outputs": [
        {
          "output_type": "execute_result",
          "data": {
            "text/plain": [
              "<lightfm.lightfm.LightFM at 0x7f63080a3c18>"
            ]
          },
          "metadata": {
            "tags": []
          },
          "execution_count": 16
        }
      ]
    },
    {
      "metadata": {
        "id": "oLQHswImLxaM",
        "colab_type": "code",
        "colab": {
          "base_uri": "https://localhost:8080/",
          "height": 34
        },
        "outputId": "b4be2da6-dd10-422c-9993-7a944da5d394"
      },
      "cell_type": "code",
      "source": [
        "#number of users and movies in training data\n",
        "n_users, n_items = data['train'].shape\n",
        "\n",
        "# Indices of movie rated by the user_id '3'\n",
        "#data['train'].todense()[3].nonzero()\n",
        "data['train'].tocsr()[3].indices"
      ],
      "execution_count": 19,
      "outputs": [
        {
          "output_type": "execute_result",
          "data": {
            "text/plain": [
              "array([ 10, 257, 270, 299, 300, 323, 326, 328, 358, 359, 361], dtype=int32)"
            ]
          },
          "metadata": {
            "tags": []
          },
          "execution_count": 19
        }
      ]
    },
    {
      "metadata": {
        "id": "VNC5NOMBLxaZ",
        "colab_type": "code",
        "colab": {},
        "outputId": "de6d11d6-6b68-46ce-e033-e729b565ddd8"
      },
      "cell_type": "code",
      "source": [
        "data['item_labels'][data['train'].tocsr()[3].indices]"
      ],
      "execution_count": 0,
      "outputs": [
        {
          "output_type": "execute_result",
          "data": {
            "text/plain": [
              "array(['Seven (Se7en) (1995)', 'Contact (1997)',\n",
              "       'Starship Troopers (1997)', 'Air Force One (1997)',\n",
              "       'In & Out (1997)', 'Lost Highway (1997)', 'Cop Land (1997)',\n",
              "       'Desperate Measures (1998)', 'Assignment, The (1997)',\n",
              "       'Wonderland (1997)', 'Blues Brothers 2000 (1998)'], dtype=object)"
            ]
          },
          "metadata": {
            "tags": []
          },
          "execution_count": 70
        }
      ]
    },
    {
      "metadata": {
        "id": "57TWO94DLxal",
        "colab_type": "code",
        "colab": {},
        "outputId": "1277655b-cf3e-48fb-838d-c612424ce404"
      },
      "cell_type": "code",
      "source": [
        "data['item_labels'].shape"
      ],
      "execution_count": 0,
      "outputs": [
        {
          "output_type": "execute_result",
          "data": {
            "text/plain": [
              "(1682,)"
            ]
          },
          "metadata": {
            "tags": []
          },
          "execution_count": 71
        }
      ]
    },
    {
      "metadata": {
        "id": "pqEsarVRbFnE",
        "colab_type": "text"
      },
      "cell_type": "markdown",
      "source": [
        "## Check Metrics Score\n",
        "Here we are using AUC Score as a metrics, where 1 being the best model."
      ]
    },
    {
      "metadata": {
        "id": "XsViuDHwLxa8",
        "colab_type": "code",
        "colab": {},
        "outputId": "d75900bc-11d9-4293-b76c-77ce95f79913"
      },
      "cell_type": "code",
      "source": [
        "auc = auc_score(model, data['test'],train_interactions=data['train'])\n",
        "auc1 = auc_score(model1, data['test'],train_interactions=data['train'])\n",
        "auc2 = auc_score(model2, data['test'],train_interactions=data['train'])\n",
        "print ('WARP AUC Score: {} '.format(auc.sum()/auc.shape))\n",
        "print ('Logistic AUC Score : {} '.format(auc1.sum()/auc1.shape))\n",
        "print ('BPR AUC Score : {} '.format(auc2.sum()/auc2.shape))"
      ],
      "execution_count": 0,
      "outputs": [
        {
          "output_type": "stream",
          "text": [
            "AUC : [0.93351599] \n",
            "AUC1 : [0.87956248] \n",
            "AUC2 : [0.86359753] \n"
          ],
          "name": "stdout"
        }
      ]
    },
    {
      "metadata": {
        "id": "1WjEG9vrb9ry",
        "colab_type": "text"
      },
      "cell_type": "markdown",
      "source": [
        "Since, Warp model outperforms the other two model. We will be using warp model to predict the movies."
      ]
    },
    {
      "metadata": {
        "id": "uV0We2LDLxbM",
        "colab_type": "code",
        "colab": {}
      },
      "cell_type": "code",
      "source": [
        "def sample_recommendation(model, data, user_ids):\n",
        "\n",
        "    #number of users and movies in training data\n",
        "    n_users, n_items = data['train'].shape\n",
        "\n",
        "    #generate recommendations for each user we input\n",
        "    for user_id in user_ids:\n",
        "\n",
        "        #movies they already like\n",
        "        known_positives = data['item_labels'][data['train'].tocsr()[user_id].indices]\n",
        "\n",
        "        #movies our model predicts they will like\n",
        "        scores = model.predict(user_id, np.arange(n_items))\n",
        "        #rank them in order of most liked to least\n",
        "        top_items = data['item_labels'][np.argsort(-scores)]\n",
        "\n",
        "        #print out the results\n",
        "        print(\"User %s\" % user_id)\n",
        "        print(\"     Known positives:\")\n",
        "\n",
        "        for x in known_positives[:3]:\n",
        "            print(\"        %s\" % x)\n",
        "\n",
        "        print(\"     Recommended:\")\n",
        "\n",
        "        for x in top_items[:3]:\n",
        "            print(\"        %s\" % x)"
      ],
      "execution_count": 0,
      "outputs": []
    },
    {
      "metadata": {
        "id": "UjGhgfyCLxbZ",
        "colab_type": "code",
        "colab": {},
        "outputId": "e680fab0-8d9d-424f-bb76-7fdf7fc899b0"
      },
      "cell_type": "code",
      "source": [
        "sample_recommendation(model, data, [3, 25, 450])"
      ],
      "execution_count": 0,
      "outputs": [
        {
          "output_type": "stream",
          "text": [
            "User 3\n",
            "     Known positives:\n",
            "        Seven (Se7en) (1995)\n",
            "        Contact (1997)\n",
            "        Starship Troopers (1997)\n",
            "     Recommended:\n",
            "        Scream (1996)\n",
            "        Air Force One (1997)\n",
            "        Conspiracy Theory (1997)\n",
            "User 25\n",
            "     Known positives:\n",
            "        Dead Man Walking (1995)\n",
            "        Star Wars (1977)\n",
            "        Fargo (1996)\n",
            "     Recommended:\n",
            "        L.A. Confidential (1997)\n",
            "        Contact (1997)\n",
            "        Fargo (1996)\n",
            "User 450\n",
            "     Known positives:\n",
            "        Contact (1997)\n",
            "        George of the Jungle (1997)\n",
            "        Event Horizon (1997)\n",
            "     Recommended:\n",
            "        Kiss the Girls (1997)\n",
            "        Conspiracy Theory (1997)\n",
            "        Seven Years in Tibet (1997)\n"
          ],
          "name": "stdout"
        }
      ]
    }
  ]
}